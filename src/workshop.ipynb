{
 "cells": [
  {
   "cell_type": "code",
   "execution_count": 13,
   "outputs": [],
   "source": [
    "class Bob:\n",
    "\n",
    "    def __init__(self):\n",
    "        self.name = 'Bob'\n",
    "        self.age = 20\n",
    "\n",
    "\n",
    "x = [{\n",
    "    \"x\": 15,\n",
    "    \"y\": 20,\n",
    "    \"type\": Bob()\n",
    "}]"
   ],
   "metadata": {
    "collapsed": false,
    "pycharm": {
     "name": "#%%\n"
    }
   }
  },
  {
   "cell_type": "code",
   "execution_count": 19,
   "outputs": [
    {
     "name": "stdout",
     "output_type": "stream",
     "text": [
      "Bob\n"
     ]
    }
   ],
   "source": [
    "\n",
    "x[0][\"x\"] = 20\n",
    "print(x[0][\"type\"].name)\n"
   ],
   "metadata": {
    "collapsed": false,
    "pycharm": {
     "name": "#%%\n"
    }
   }
  },
  {
   "cell_type": "code",
   "execution_count": 2,
   "outputs": [],
   "source": [
    "from typing import List, Dict\n",
    "import numpy as np\n",
    "import random\n",
    "import genes\n",
    "\n",
    "\n",
    "class Hunter:\n",
    "\n",
    "    def __init__(self, x: int, y: int):\n",
    "        self.x: int = x\n",
    "        self.y: int = y\n",
    "        self.fitness: int = 0\n",
    "        self.genes = genes.Genes(0, 0, 0, 0)\n",
    "        self.kills: int = 0\n",
    "        self.pos: List[int] = [x, y]\n",
    "\n",
    "    def set_pos(self):\n",
    "        self.pos = [self.x, self.y]\n",
    "\n",
    "    def upgrade(self):\n",
    "        pass"
   ],
   "metadata": {
    "collapsed": false,
    "pycharm": {
     "name": "#%%\n"
    }
   }
  },
  {
   "cell_type": "code",
   "execution_count": 4,
   "outputs": [],
   "source": [
    "from typing import List, Dict\n",
    "import numpy as np\n",
    "import random\n",
    "\n",
    "\n",
    "\"\"\" ['Information']\n",
    "I need to write some notes, while coding. So why not keep them up here for you to read.\n",
    "So you easier can understand my code.\n",
    "\n",
    "- Prey\n",
    "I need to create an attribute list for prey.\n",
    "What every \"fitness parameters\" does in practis.\n",
    "Ex: if you have lets say 52 as speed attribute/rating.\n",
    "And I create a rule that says if you have over 50 in speed...\n",
    "increase the chance of escape by 15%.\n",
    "\n",
    "I need to define this beforehand so i more easily modify the fitenss/mutation functions.\n",
    "\n",
    "Gen 0: Health (How much health tbey have.)\n",
    "\n",
    "Gen 1: Weight (How much damage they take)\n",
    "\n",
    "Gen 2: attack power (This will always be 0)\n",
    "\n",
    "Gen 3: Speed (How good they are at evading prey.)\n",
    "\n",
    "Days Survied: How many iterations the prey has survived.\n",
    "\n",
    "Enemy Close: How many times was the prey within X amount of blocks of hunter. (Day to day basis)\n",
    "\n",
    "\n",
    "\"\"\"\n",
    "\n",
    "\n",
    "\n",
    "class Prey:\n",
    "\n",
    "    def __init__(self, x: int, y: int):\n",
    "        self.x: int = x\n",
    "        self.y: int = y\n",
    "        self.fitness: int = 0\n",
    "        self.days_survived: int = 0\n",
    "        self.enemy_close: int = 0\n",
    "        self.genes = []\n",
    "        self.NUM_GENES = 0\n",
    "        self.pos: List[int] = [x, y]\n",
    "        self.killed = False\n",
    "\n",
    "    def set_pos(self):\n",
    "        self.pos: List[int] = [self.x, self.y]\n",
    "\n",
    "\n",
    "\n",
    "    # This needs total rework.\n",
    "    def mutation(self, xx_genes: List[int], xy_genes: List[int]):\n",
    "        # Children\n",
    "        child01 = []\n",
    "        child02 = []\n",
    "\n",
    "        # Single Point Crossover every parent is in pair and will produce 2 childern.\n",
    "        gen_len = len(xx_genes)\n",
    "        crossover_point = random.randint(0, gen_len)\n",
    "\n",
    "        for i in range(gen_len):\n",
    "            # Cross-over-point -\n",
    "            if i >= crossover_point:\n",
    "                # Picks the best one.\n",
    "                if xx_genes[i] > xy_genes[i]:\n",
    "                    child01[i] = xx_genes[i]\n",
    "                    child02[i] = xy_genes[i]\n",
    "                else:\n",
    "                    child01[i] = xy_genes[i]\n",
    "                    child02[i] = xy_genes[i]\n",
    "            else:\n",
    "                child01[i] = np.random.sample()\n",
    "                child02[i] = np.random.sample()\n",
    "\n",
    "\n",
    "    def kill(self) -> bool:\n",
    "        \"\"\"\n",
    "        Kills the prey.\n",
    "        \"\"\"\n",
    "        self.killed = True\n",
    "        return True\n",
    "\n",
    "    def set_random_genes(self):\n",
    "        \"\"\"\n",
    "        Sets random genes for the prey.\n",
    "        \"\"\"\n",
    "        self.genes = []\n",
    "        for i in range(0, self.NUM_GENES):\n",
    "            self.genes[i] = np.random.sample()\n",
    "\n",
    "    def move(self) -> bool:\n",
    "        \"\"\"\n",
    "        Moves the prey.\n",
    "        \"\"\"\n",
    "\n",
    "        if not self.killed:\n",
    "            # Main code (Calculates how to move.)\n",
    "\n",
    "            return True\n",
    "        else: return False\n",
    "\n"
   ],
   "metadata": {
    "collapsed": false,
    "pycharm": {
     "name": "#%%\n"
    }
   }
  },
  {
   "cell_type": "code",
   "execution_count": 6,
   "outputs": [],
   "source": [
    "class Genes:\n",
    "\n",
    "    def __init__(self, health: int, weight: int, attack: int, speed: int):\n",
    "        self.health: int = health\n",
    "        self.weight: int = weight\n",
    "        self.attack: int = attack\n",
    "        self.speed: int = speed"
   ],
   "metadata": {
    "collapsed": false,
    "pycharm": {
     "name": "#%%\n"
    }
   }
  },
  {
   "cell_type": "code",
   "execution_count": 32,
   "outputs": [],
   "source": [
    "from logging import exception\n",
    "from typing import List, Dict, Tuple\n",
    "import numpy as np\n",
    "import random\n",
    "import genes\n",
    "from prey import Prey\n",
    "from hunter import Hunter\n",
    "\n",
    "\n",
    "# Environment class\n",
    "class Environment:\n",
    "\n",
    "\n",
    "    def __init__(self, size: int, num_prey: int, num_hunter: int):\n",
    "        self.size = size\n",
    "        self.num_prey = num_prey\n",
    "        self.num_hunter = num_hunter\n",
    "        self.agents_total = num_prey + num_hunter\n",
    "        self.agents_list = []\n",
    "        self.agents  = [{\n",
    "            \"x\": [],\n",
    "            \"y\": [],\n",
    "            \"type\": object\n",
    "        }]\n",
    "        # --- TODO: Step 0.5: Generating world...\n",
    "        self.world = [[\"\" for i in range(0, self.size)] for i in range(0, self.size)]\n",
    "\n",
    "\n",
    "    # --- TODO: Start up process...\n",
    "    # --- TODO: Step 1: Generating world...\n",
    "    def generate_world(self) -> bool:\n",
    "        # TODO: generate world, but not sure how.\n",
    "        try:\n",
    "            print(\"Generating world...\")\n",
    "            pass\n",
    "            return True\n",
    "        except Exception as e:\n",
    "            print(e)\n",
    "            return False\n",
    "\n",
    "    # --- TODO: Step 2: Generating agents...\n",
    "    def create_agents(self) -> bool:\n",
    "        #  TODO: unsure...\n",
    "        \"\"\"\n",
    "        Creates agents [worker function]\n",
    "        :return: True if successful, False if unsuccessful\n",
    "        \"\"\"\n",
    "        positions = []\n",
    "        try:\n",
    "            if len(self.agents_list) > 0:\n",
    "                print(\"Agents already created\")\n",
    "                return True\n",
    "            # else: create game\n",
    "            for i in range(0, self.num_prey + self.num_hunter):\n",
    "                positions.append([random.randint(0, self.size), random.randint(0, self.size)])\n",
    "\n",
    "\n",
    "            for j, i in enumerate(positions):\n",
    "                    # Creation of agents\n",
    "                    # Create prey\n",
    "\n",
    "                    print(i)\n",
    "                    if j <= self.num_prey:\n",
    "                        # Create object\n",
    "                        self.agents_list.append(Prey(i[0], i[1]))\n",
    "                        # Add to world\n",
    "                        self.world[i[0]][i[1]] = \"P\"\n",
    "                        # Create Permanent Record\n",
    "                        self.agents[j][\"x\"] = i[0]\n",
    "                        self.agents[j][\"y\"] = i[1]\n",
    "                        self.agents[j][\"type\"] = Prey(i[0], i[1])\n",
    "                        # Debugging\n",
    "                        print(\"Prey created at x: {} y: {}\".format(i[0], i[1]))\n",
    "                    # Create hunter\n",
    "                    elif j > self.num_prey:\n",
    "                        self.agents_list.append(Hunter(i[0], i[1]))\n",
    "                        # Add to world\n",
    "                        #self.world[i[0]][i[1]] = \"H\"\n",
    "\n",
    "                        # Create Permanent Record\n",
    "                        self.agents[j][\"x\"] = i[0]\n",
    "                        self.agents[j][\"y\"] = i[1]\n",
    "                        self.agents[j][\"type\"] = Hunter(i[0], i[1])\n",
    "\n",
    "                        # Debugging\n",
    "                        print(\"Hunter created at x: {} y: {}\".format(i[0], i[1]))\n",
    "            return True\n",
    "        except Exception as e:\n",
    "            print(e)\n",
    "            return False\n",
    "\n",
    "\n",
    "\n",
    "\n",
    "    # --- TODO: utility functions --- #\n",
    "    def set_hunter(self, x: int, y: int, hunter: List[Hunter]) -> bool:\n",
    "        self.world[x][y] = \"H\"\n",
    "        return True\n",
    "\n",
    "    def set_prey(self, x: int, y: int, prey: List[Prey]) -> bool:\n",
    "        self.world[x][y] = \"P\"\n",
    "        return True\n",
    "\n",
    "    def set_empty(self, x: int, y: int) -> bool:\n",
    "        self.world[x][y] = \"\"\n",
    "        return True\n",
    "\n",
    "    def get_data(self, x: int, y: int, id: int):\n",
    "        return  self.agents[id][\"x\"], self.agents[id][\"y\"], self.agents[id][\"type\"]\n",
    "\n",
    "\n",
    "    # --- TODO: Worker functions --- #\n",
    "    def check_surrounding(self, x: int, y: int) -> bool:\n",
    "        # TODO: function comment\n",
    "        # Desc: Checks if the surrounding of the animal is empty\n",
    "\n",
    "        # temp storage for calculating...\n",
    "        temp_list = []\n",
    "        temp_hunter = []\n",
    "        temp_prey = []\n",
    "\n",
    "        above_below = [i for i in range(-1, 1, 2) if self.world[x[i]][y] == \"H\"]\n",
    "        left_right = [i for i in range(-1, 1, 2) if self.world[x][y[i]] == \"H\"]\n",
    "        diagonal = [temp_hunter.append(i) for i in range(-1, 1, 2) if self.world[x[i]][y[i]] == \"H\"]\n",
    "\n",
    "        # Have made so this can be update to return hunters position.\n",
    "        # Use case: match up between prey and hunter, maybe prey livs.\n",
    "        if len(temp_hunter) > 0:\n",
    "\n",
    "            x = random.randint(0, 100)\n",
    "            # if x is greater then 5 (%) then prey dies.\n",
    "            if x > 5:\n",
    "                return True\n",
    "            # else prey lives.\n",
    "            else:\n",
    "                return False\n",
    "        else:\n",
    "            return False\n",
    "        above = []\n",
    "\n",
    "        # Check if above_below, left_right, diagnol are 0 if not return 1\n",
    "\n",
    "        if 1 in above_below or 1 in left_right or 1 in diagonal:\n",
    "            return True\n",
    "        else:\n",
    "            return False"
   ],
   "metadata": {
    "collapsed": false,
    "pycharm": {
     "name": "#%%\n"
    }
   }
  },
  {
   "cell_type": "code",
   "execution_count": 33,
   "outputs": [],
   "source": [
    "y = Environment(10, 10, 2)"
   ],
   "metadata": {
    "collapsed": false,
    "pycharm": {
     "name": "#%%\n"
    }
   }
  },
  {
   "cell_type": "code",
   "execution_count": 34,
   "outputs": [
    {
     "name": "stdout",
     "output_type": "stream",
     "text": [
      "[['', '', '', '', '', '', '', '', '', ''], ['', '', '', '', '', '', '', '', '', ''], ['', '', '', '', '', '', '', '', '', ''], ['', '', '', '', '', '', '', '', '', ''], ['', '', '', '', '', '', '', '', '', ''], ['', '', '', '', '', '', '', '', '', ''], ['', '', '', '', '', '', '', '', '', ''], ['', '', '', '', '', '', '', '', '', ''], ['', '', '', '', '', '', '', '', '', ''], ['', '', '', '', '', '', '', '', '', '']]\n",
      "4\n",
      "'int' object is not subscriptable\n"
     ]
    },
    {
     "data": {
      "text/plain": "False"
     },
     "execution_count": 34,
     "metadata": {},
     "output_type": "execute_result"
    }
   ],
   "source": [
    "y.create_agents()"
   ],
   "metadata": {
    "collapsed": false,
    "pycharm": {
     "name": "#%%\n"
    }
   }
  },
  {
   "cell_type": "code",
   "execution_count": 1,
   "outputs": [
    {
     "ename": "NameError",
     "evalue": "name 'random' is not defined",
     "output_type": "error",
     "traceback": [
      "\u001B[1;31m---------------------------------------------------------------------------\u001B[0m",
      "\u001B[1;31mNameError\u001B[0m                                 Traceback (most recent call last)",
      "\u001B[1;32m~\\AppData\\Local\\Temp/ipykernel_9652/2159476766.py\u001B[0m in \u001B[0;36m<module>\u001B[1;34m\u001B[0m\n\u001B[0;32m      1\u001B[0m \u001B[0mx\u001B[0m \u001B[1;33m=\u001B[0m \u001B[1;33m[\u001B[0m\u001B[1;33m]\u001B[0m\u001B[1;33m\u001B[0m\u001B[1;33m\u001B[0m\u001B[0m\n\u001B[0;32m      2\u001B[0m \u001B[1;32mfor\u001B[0m \u001B[0mi\u001B[0m \u001B[1;32min\u001B[0m \u001B[0mrange\u001B[0m\u001B[1;33m(\u001B[0m\u001B[1;36m0\u001B[0m\u001B[1;33m,\u001B[0m \u001B[1;36m2\u001B[0m\u001B[1;33m)\u001B[0m\u001B[1;33m:\u001B[0m\u001B[1;33m\u001B[0m\u001B[1;33m\u001B[0m\u001B[0m\n\u001B[1;32m----> 3\u001B[1;33m     \u001B[0mx\u001B[0m\u001B[1;33m.\u001B[0m\u001B[0mappend\u001B[0m\u001B[1;33m(\u001B[0m\u001B[1;33m[\u001B[0m\u001B[0mrandom\u001B[0m\u001B[1;33m.\u001B[0m\u001B[0mrandint\u001B[0m\u001B[1;33m(\u001B[0m\u001B[1;36m0\u001B[0m\u001B[1;33m,\u001B[0m \u001B[1;36m10\u001B[0m\u001B[1;33m)\u001B[0m\u001B[1;33m,\u001B[0m \u001B[0mrandom\u001B[0m\u001B[1;33m.\u001B[0m\u001B[0mrandint\u001B[0m\u001B[1;33m(\u001B[0m\u001B[1;36m0\u001B[0m\u001B[1;33m,\u001B[0m \u001B[1;36m10\u001B[0m\u001B[1;33m)\u001B[0m\u001B[1;33m]\u001B[0m\u001B[1;33m)\u001B[0m\u001B[1;33m\u001B[0m\u001B[1;33m\u001B[0m\u001B[0m\n\u001B[0m\u001B[0;32m      4\u001B[0m \u001B[1;33m\u001B[0m\u001B[0m\n\u001B[0;32m      5\u001B[0m \u001B[0mprint\u001B[0m\u001B[1;33m(\u001B[0m\u001B[0mx\u001B[0m\u001B[1;33m[\u001B[0m\u001B[1;36m0\u001B[0m\u001B[1;33m]\u001B[0m\u001B[1;33m)\u001B[0m\u001B[1;33m\u001B[0m\u001B[1;33m\u001B[0m\u001B[0m\n",
      "\u001B[1;31mNameError\u001B[0m: name 'random' is not defined"
     ]
    }
   ],
   "source": [
    "x = []\n",
    "for i in range(0, 2):\n",
    "    x.append([random.randint(0, 10), random.randint(0, 10)])\n",
    "\n",
    "print(x[0])"
   ],
   "metadata": {
    "collapsed": false,
    "pycharm": {
     "name": "#%%\n"
    }
   }
  },
  {
   "cell_type": "code",
   "execution_count": 4,
   "outputs": [
    {
     "name": "stdout",
     "output_type": "stream",
     "text": [
      "3\n"
     ]
    }
   ],
   "source": [
    "def function(x: int, y: int):\n",
    "    print(x + y)\n",
    "\n",
    "function(1, 2)"
   ],
   "metadata": {
    "collapsed": false,
    "pycharm": {
     "name": "#%%\n"
    }
   }
  },
  {
   "cell_type": "code",
   "execution_count": null,
   "outputs": [],
   "source": [],
   "metadata": {
    "collapsed": false,
    "pycharm": {
     "name": "#%%\n"
    }
   }
  }
 ],
 "metadata": {
  "kernelspec": {
   "display_name": "Python 3",
   "language": "python",
   "name": "python3"
  },
  "language_info": {
   "codemirror_mode": {
    "name": "ipython",
    "version": 2
   },
   "file_extension": ".py",
   "mimetype": "text/x-python",
   "name": "python",
   "nbconvert_exporter": "python",
   "pygments_lexer": "ipython2",
   "version": "2.7.6"
  }
 },
 "nbformat": 4,
 "nbformat_minor": 0
}